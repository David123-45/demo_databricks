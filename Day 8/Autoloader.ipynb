{
 "cells": [
  {
   "cell_type": "code",
   "execution_count": 0,
   "metadata": {
    "application/vnd.databricks.v1+cell": {
     "cellMetadata": {
      "byteLimit": 2048000,
      "rowLimit": 10000
     },
     "inputWidgets": {},
     "nuid": "860fb3ab-76f3-440b-9b90-c369cf51fc58",
     "showTitle": false,
     "tableResultSettingsMap": {},
     "title": ""
    }
   },
   "outputs": [],
   "source": [
    "(\n",
    "spark\n",
    " .readStream\n",
    " .schema(user_schema)\n",
    " .csv(input_path,header=True)\n",
    " .writeStream\n",
    " .option(\"checkpointLocation\",\"s3://jpmctraining/checkpoint/David/stream\")\n",
    " #.trigger(once=True)\n",
    " #.trigger(processingTime='1 minute')\n",
    " .toTable(\"saas.david.stream\")\n",
    " )"
   ]
  },
  {
   "cell_type": "code",
   "execution_count": 0,
   "metadata": {
    "application/vnd.databricks.v1+cell": {
     "cellMetadata": {},
     "inputWidgets": {},
     "nuid": "a0f75a9f-5987-4a4b-a1fc-a4bcfcc070db",
     "showTitle": false,
     "tableResultSettingsMap": {},
     "title": ""
    }
   },
   "outputs": [],
   "source": [
    "(spark.readStream.format(\"cloudFiles\")\n",
    "  .option(\"cloudFiles.format\", \"parquet\")\n",
    "  # The schema location directory keeps track of your data schema over time\n",
    "  .option(\"cloudFiles.schemaLocation\", \"<path-to-checkpoint>\")\n",
    "  .load(\"<path-to-source-data>\")\n",
    "  .writeStream\n",
    "  .option(\"checkpointLocation\", \"<path-to-checkpoint>\")\n",
    "  .start(\"<path_to_target\")\n",
    ")"
   ]
  },
  {
   "cell_type": "code",
   "execution_count": 0,
   "metadata": {
    "application/vnd.databricks.v1+cell": {
     "cellMetadata": {
      "byteLimit": 2048000,
      "rowLimit": 10000
     },
     "inputWidgets": {},
     "nuid": "21c35e31-e882-42b9-b81e-cbd1798f740a",
     "showTitle": false,
     "tableResultSettingsMap": {},
     "title": ""
    }
   },
   "outputs": [],
   "source": [
    "input_path=\"s3://jpmctraining/input\"\n",
    "checkpoint=\"s3://jpmctraining/checkpoint/David/autoloader/checkpoint1\"\n",
    "schemalocation=\"s3://jpmctraining/checkpoint/David/autoloader/schema1\""
   ]
  },
  {
   "cell_type": "code",
   "execution_count": 0,
   "metadata": {
    "application/vnd.databricks.v1+cell": {
     "cellMetadata": {
      "byteLimit": 2048000,
      "rowLimit": 10000
     },
     "inputWidgets": {},
     "nuid": "c2174908-0a53-4f4c-975d-4ba5b46d3c97",
     "showTitle": false,
     "tableResultSettingsMap": {},
     "title": ""
    }
   },
   "outputs": [],
   "source": [
    "(\n",
    "spark\n",
    " .readStream\n",
    " .format(\"cloudFiles\")\n",
    " .option(\"cloudFiles.format\",\"csv\")\n",
    " .option(\"cloudFiles.schemaLocation\",schemalocation)\n",
    " .option(\"cloudFiles.inferColumnTypes\",True)\n",
    " .load(input_path)\n",
    " .writeStream\n",
    " .option(\"checkpointLocation\",checkpoint)\n",
    " #.trigger(once=True)\n",
    " #.trigger(processingTime='1 minute')\n",
    " .toTable(\"saas.david.autoloader\")\n",
    " )"
   ]
  },
  {
   "cell_type": "code",
   "execution_count": 0,
   "metadata": {
    "application/vnd.databricks.v1+cell": {
     "cellMetadata": {},
     "inputWidgets": {},
     "nuid": "1db6aabd-de37-4c14-8a85-404a5618fc5f",
     "showTitle": false,
     "tableResultSettingsMap": {},
     "title": ""
    }
   },
   "outputs": [],
   "source": [
    "input_path=\"s3://jpmctraining/input\"\n",
    "checkpoint=\"s3://jpmctraining/checkpoint/David/autoloader/checkpoint1\"\n",
    "schemalocation=\"s3://jpmctraining/checkpoint/David/autoloader/schema1\""
   ]
  },
  {
   "cell_type": "code",
   "execution_count": 0,
   "metadata": {
    "application/vnd.databricks.v1+cell": {
     "cellMetadata": {},
     "inputWidgets": {},
     "nuid": "57197e80-19bf-4a2e-a58f-e3e39f90d5cc",
     "showTitle": false,
     "tableResultSettingsMap": {},
     "title": ""
    }
   },
   "outputs": [],
   "source": [
    "(\n",
    "spark\n",
    " .readStream\n",
    " .format(\"cloudFiles\")\n",
    " .option(\"cloudFiles.format\",\"csv\")\n",
    " .option(\"cloudFiles.schemaLocation\",schemalocation)\n",
    " .option(\"cloudFiles.inferColumnTypes\",True)\n",
    " .option(\"cloudFiles.schemaEvolutionMode\",\"rescue\")\n",
    " .load(input_path)\n",
    " .writeStream\n",
    " .option(\"checkpointLocation\",checkpoint)\n",
    " .option(\"mergeSchema\",True)\n",
    " #.trigger(once=True)\n",
    " .toTable(\"saas.naval.autoloader\")\n",
    " )"
   ]
  },
  {
   "cell_type": "code",
   "execution_count": 0,
   "metadata": {
    "application/vnd.databricks.v1+cell": {
     "cellMetadata": {},
     "inputWidgets": {},
     "nuid": "3b5946e9-59ec-4115-9767-c632f1a0d37c",
     "showTitle": false,
     "tableResultSettingsMap": {},
     "title": ""
    }
   },
   "outputs": [],
   "source": [
    "%sql\n",
    "select * from saas.naval.autoloader"
   ]
  }
 ],
 "metadata": {
  "application/vnd.databricks.v1+notebook": {
   "computePreferences": null,
   "dashboards": [],
   "environmentMetadata": {
    "base_environment": "",
    "environment_version": "2"
   },
   "inputWidgetPreferences": null,
   "language": "python",
   "notebookMetadata": {
    "pythonIndentUnit": 4
   },
   "notebookName": "Autoloader",
   "widgets": {}
  },
  "language_info": {
   "name": "python"
  }
 },
 "nbformat": 4,
 "nbformat_minor": 0
}
